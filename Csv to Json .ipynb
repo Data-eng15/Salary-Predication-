{
 "cells": [
  {
   "cell_type": "code",
   "execution_count": 1,
   "id": "7a422cd5-5849-412c-98a9-ed0401813826",
   "metadata": {},
   "outputs": [],
   "source": [
    "import csv\n",
    "import json"
   ]
  },
  {
   "cell_type": "code",
   "execution_count": 2,
   "id": "6ed78fee-cf4a-49aa-8750-c5659d6a9bde",
   "metadata": {},
   "outputs": [],
   "source": [
    "# Function to convert CSV to JSON\n",
    "def csv_to_json(csv_file_path, json_file_path):\n",
    "    data = []\n",
    "    \n",
    "    # Read CSV file\n",
    "    with open(csv_file_path, 'r') as csv_file:\n",
    "        csv_reader = csv.DictReader(csv_file)\n",
    "        \n",
    "        # Convert CSV data to a list of dictionaries\n",
    "        for row in csv_reader:\n",
    "            data.append(row)\n",
    "    \n",
    "    # Write JSON file\n",
    "    with open(json_file_path, 'w') as json_file:\n",
    "        json.dump(data, json_file, indent=4)\n",
    "\n",
    "# Example usage\n",
    "csv_file_path = 'Salary.csv'    # Replace with your CSV file path\n",
    "json_file_path = 'output.json'      # Replace with the desired JSON output file path\n",
    "\n",
    "csv_to_json(csv_file_path, json_file_path)"
   ]
  },
  {
   "cell_type": "code",
   "execution_count": null,
   "id": "07262fbb-581f-4f54-82f8-5cd70b5319e3",
   "metadata": {},
   "outputs": [],
   "source": []
  }
 ],
 "metadata": {
  "kernelspec": {
   "display_name": "Python 3 (ipykernel)",
   "language": "python",
   "name": "python3"
  },
  "language_info": {
   "codemirror_mode": {
    "name": "ipython",
    "version": 3
   },
   "file_extension": ".py",
   "mimetype": "text/x-python",
   "name": "python",
   "nbconvert_exporter": "python",
   "pygments_lexer": "ipython3",
   "version": "3.12.1"
  }
 },
 "nbformat": 4,
 "nbformat_minor": 5
}
