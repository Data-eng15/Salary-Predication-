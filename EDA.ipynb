{
 "cells": [
  {
   "cell_type": "code",
   "execution_count": 1,
   "id": "7814884f-8134-43fc-b3e9-83a348e0f562",
   "metadata": {},
   "outputs": [],
   "source": [
    "import pandas as pd \n",
    "import numpy as np \n",
    "import matplotlib.pyplot as plt \n",
    "import seaborn as sns \n",
    "from pymongo import MongoClient\n",
    "import json "
   ]
  },
  {
   "cell_type": "code",
   "execution_count": 2,
   "id": "c98785f1-4ba7-4c18-8386-8bb77f8275f1",
   "metadata": {},
   "outputs": [],
   "source": [
    "client = MongoClient('localhost', 27017)"
   ]
  },
  {
   "cell_type": "code",
   "execution_count": 3,
   "id": "ecf3e04c-0575-41e1-8897-98b12eaf7ab4",
   "metadata": {},
   "outputs": [
    {
     "data": {
      "text/plain": [
       "['admin', 'config', 'local', 'mydb']"
      ]
     },
     "execution_count": 3,
     "metadata": {},
     "output_type": "execute_result"
    }
   ],
   "source": [
    "client.list_database_names()"
   ]
  },
  {
   "cell_type": "code",
   "execution_count": 4,
   "id": "2328f49e-63ce-47d4-ae1b-dee8e5ebc3a5",
   "metadata": {},
   "outputs": [],
   "source": [
    "db = client[\"mydb\"]\n",
    "col = db[\"Salary\"]"
   ]
  },
  {
   "cell_type": "code",
   "execution_count": 5,
   "id": "2f22b84c-864e-49b0-be10-bf06377e0be1",
   "metadata": {},
   "outputs": [],
   "source": [
    "cursor = col.find({})\n",
    "data_from_mongo = list(cursor)"
   ]
  },
  {
   "cell_type": "code",
   "execution_count": 20,
   "id": "919a11d9-775a-4d76-961b-7f70d8cf30e9",
   "metadata": {},
   "outputs": [],
   "source": [
    "for document in cursor:\n",
    "    print(document)"
   ]
  },
  {
   "cell_type": "code",
   "execution_count": 7,
   "id": "0d16ab93-15b4-495b-add5-c2849c4e5db8",
   "metadata": {},
   "outputs": [],
   "source": [
    "json_data = json.dumps(data_from_mongo, default=str, indent=4)"
   ]
  },
  {
   "cell_type": "code",
   "execution_count": 8,
   "id": "077fbe19-d3bd-4415-92db-f4a613e65b6a",
   "metadata": {},
   "outputs": [
    {
     "name": "stdout",
     "output_type": "stream",
     "text": [
      "[\n",
      "    {\n",
      "        \"_id\": \"65a03faf9d0b1947666351fb\",\n",
      "        \"YearsExperience\": \"1.1\",\n",
      "        \"Salary\": \"39343\"\n",
      "    },\n",
      "    {\n",
      "        \"_id\": \"65a03faf9d0b1947666351fc\",\n",
      "        \"YearsExperience\": \"1.3\",\n",
      "        \"Salary\": \"46205\"\n",
      "    },\n",
      "    {\n",
      "        \"_id\": \"65a03faf9d0b1947666351fd\",\n",
      "        \"YearsExperience\": \"1.5\",\n",
      "        \"Salary\": \"37731\"\n",
      "    },\n",
      "    {\n",
      "        \"_id\": \"65a03faf9d0b1947666351fe\",\n",
      "        \"YearsExperience\": \"2\",\n",
      "        \"Salary\": \"43525\"\n",
      "    },\n",
      "    {\n",
      "        \"_id\": \"65a03faf9d0b1947666351ff\",\n",
      "        \"YearsExperience\": \"2.2\",\n",
      "        \"Salary\": \"39891\"\n",
      "    },\n",
      "    {\n",
      "        \"_id\": \"65a03faf9d0b194766635200\",\n",
      "        \"YearsExperience\": \"2.9\",\n",
      "        \"Salary\": \"56642\"\n",
      "    },\n",
      "    {\n",
      "        \"_id\": \"65a03faf9d0b194766635201\",\n",
      "        \"YearsExperience\": \"3\",\n",
      "        \"Salary\": \"60150\"\n",
      "    },\n",
      "    {\n",
      "        \"_id\": \"65a03faf9d0b194766635202\",\n",
      "        \"YearsExperience\": \"3.2\",\n",
      "        \"Salary\": \"54445\"\n",
      "    },\n",
      "    {\n",
      "        \"_id\": \"65a03faf9d0b194766635203\",\n",
      "        \"YearsExperience\": \"3.2\",\n",
      "        \"Salary\": \"64445\"\n",
      "    },\n",
      "    {\n",
      "        \"_id\": \"65a03faf9d0b194766635204\",\n",
      "        \"YearsExperience\": \"3.7\",\n",
      "        \"Salary\": \"57189\"\n",
      "    },\n",
      "    {\n",
      "        \"_id\": \"65a03faf9d0b194766635205\",\n",
      "        \"YearsExperience\": \"3.9\",\n",
      "        \"Salary\": \"63218\"\n",
      "    },\n",
      "    {\n",
      "        \"_id\": \"65a03faf9d0b194766635206\",\n",
      "        \"YearsExperience\": \"4\",\n",
      "        \"Salary\": \"55794\"\n",
      "    },\n",
      "    {\n",
      "        \"_id\": \"65a03faf9d0b194766635207\",\n",
      "        \"YearsExperience\": \"4\",\n",
      "        \"Salary\": \"56957\"\n",
      "    },\n",
      "    {\n",
      "        \"_id\": \"65a03faf9d0b194766635208\",\n",
      "        \"YearsExperience\": \"4.1\",\n",
      "        \"Salary\": \"57081\"\n",
      "    },\n",
      "    {\n",
      "        \"_id\": \"65a03faf9d0b194766635209\",\n",
      "        \"YearsExperience\": \"4.5\",\n",
      "        \"Salary\": \"61111\"\n",
      "    },\n",
      "    {\n",
      "        \"_id\": \"65a03faf9d0b19476663520a\",\n",
      "        \"YearsExperience\": \"4.9\",\n",
      "        \"Salary\": \"67938\"\n",
      "    },\n",
      "    {\n",
      "        \"_id\": \"65a03faf9d0b19476663520b\",\n",
      "        \"YearsExperience\": \"5.1\",\n",
      "        \"Salary\": \"66029\"\n",
      "    },\n",
      "    {\n",
      "        \"_id\": \"65a03faf9d0b19476663520c\",\n",
      "        \"YearsExperience\": \"5.3\",\n",
      "        \"Salary\": \"83088\"\n",
      "    },\n",
      "    {\n",
      "        \"_id\": \"65a03faf9d0b19476663520d\",\n",
      "        \"YearsExperience\": \"5.9\",\n",
      "        \"Salary\": \"81363\"\n",
      "    },\n",
      "    {\n",
      "        \"_id\": \"65a03faf9d0b19476663520e\",\n",
      "        \"YearsExperience\": \"6\",\n",
      "        \"Salary\": \"93940\"\n",
      "    },\n",
      "    {\n",
      "        \"_id\": \"65a03faf9d0b19476663520f\",\n",
      "        \"YearsExperience\": \"6.8\",\n",
      "        \"Salary\": \"91738\"\n",
      "    },\n",
      "    {\n",
      "        \"_id\": \"65a03faf9d0b194766635210\",\n",
      "        \"YearsExperience\": \"7.1\",\n",
      "        \"Salary\": \"98273\"\n",
      "    },\n",
      "    {\n",
      "        \"_id\": \"65a03faf9d0b194766635211\",\n",
      "        \"YearsExperience\": \"7.9\",\n",
      "        \"Salary\": \"101302\"\n",
      "    },\n",
      "    {\n",
      "        \"_id\": \"65a03faf9d0b194766635212\",\n",
      "        \"YearsExperience\": \"8.2\",\n",
      "        \"Salary\": \"113812\"\n",
      "    },\n",
      "    {\n",
      "        \"_id\": \"65a03faf9d0b194766635213\",\n",
      "        \"YearsExperience\": \"8.7\",\n",
      "        \"Salary\": \"109431\"\n",
      "    },\n",
      "    {\n",
      "        \"_id\": \"65a03faf9d0b194766635214\",\n",
      "        \"YearsExperience\": \"9\",\n",
      "        \"Salary\": \"105582\"\n",
      "    },\n",
      "    {\n",
      "        \"_id\": \"65a03faf9d0b194766635215\",\n",
      "        \"YearsExperience\": \"9.5\",\n",
      "        \"Salary\": \"116969\"\n",
      "    },\n",
      "    {\n",
      "        \"_id\": \"65a03faf9d0b194766635216\",\n",
      "        \"YearsExperience\": \"9.6\",\n",
      "        \"Salary\": \"112635\"\n",
      "    },\n",
      "    {\n",
      "        \"_id\": \"65a03faf9d0b194766635217\",\n",
      "        \"YearsExperience\": \"10.3\",\n",
      "        \"Salary\": \"122391\"\n",
      "    },\n",
      "    {\n",
      "        \"_id\": \"65a03faf9d0b194766635218\",\n",
      "        \"YearsExperience\": \"10.5\",\n",
      "        \"Salary\": \"121872\"\n",
      "    },\n",
      "    {\n",
      "        \"_id\": \"65a03faf9d0b194766635219\",\n",
      "        \"YearsExperience\": \"11.2\",\n",
      "        \"Salary\": \"127345\"\n",
      "    },\n",
      "    {\n",
      "        \"_id\": \"65a03faf9d0b19476663521a\",\n",
      "        \"YearsExperience\": \"11.5\",\n",
      "        \"Salary\": \"126756\"\n",
      "    },\n",
      "    {\n",
      "        \"_id\": \"65a03faf9d0b19476663521b\",\n",
      "        \"YearsExperience\": \"12.3\",\n",
      "        \"Salary\": \"128765\"\n",
      "    },\n",
      "    {\n",
      "        \"_id\": \"65a03faf9d0b19476663521c\",\n",
      "        \"YearsExperience\": \"12.9\",\n",
      "        \"Salary\": \"135675\"\n",
      "    },\n",
      "    {\n",
      "        \"_id\": \"65a03faf9d0b19476663521d\",\n",
      "        \"YearsExperience\": \"13.5\",\n",
      "        \"Salary\": \"139465\"\n",
      "    }\n",
      "]\n"
     ]
    }
   ],
   "source": [
    "print(json_data)"
   ]
  },
  {
   "cell_type": "code",
   "execution_count": 35,
   "id": "c642f0b1-6f2d-4fff-896c-ea8c6a2b2a8a",
   "metadata": {},
   "outputs": [
    {
     "name": "stdout",
     "output_type": "stream",
     "text": [
      "472\n"
     ]
    }
   ],
   "source": [
    "print(len(json_data))"
   ]
  },
  {
   "cell_type": "code",
   "execution_count": 9,
   "id": "ed927635-2e1f-44cf-8003-4afa53f23468",
   "metadata": {},
   "outputs": [
    {
     "name": "stderr",
     "output_type": "stream",
     "text": [
      "C:\\Users\\sharn\\AppData\\Local\\Temp\\ipykernel_4764\\3067332036.py:1: FutureWarning: Passing literal json to 'read_json' is deprecated and will be removed in a future version. To read from a literal string, wrap it in a 'StringIO' object.\n",
      "  df = pd.read_json(json_data)\n"
     ]
    }
   ],
   "source": [
    "df = pd.read_json(json_data)"
   ]
  },
  {
   "cell_type": "code",
   "execution_count": 10,
   "id": "832cf27a-0317-4986-9730-4b147d8b9457",
   "metadata": {},
   "outputs": [
    {
     "name": "stdout",
     "output_type": "stream",
     "text": [
      "                         _id  YearsExperience  Salary\n",
      "0   65a03faf9d0b1947666351fb              1.1   39343\n",
      "1   65a03faf9d0b1947666351fc              1.3   46205\n",
      "2   65a03faf9d0b1947666351fd              1.5   37731\n",
      "3   65a03faf9d0b1947666351fe              2.0   43525\n",
      "4   65a03faf9d0b1947666351ff              2.2   39891\n",
      "5   65a03faf9d0b194766635200              2.9   56642\n",
      "6   65a03faf9d0b194766635201              3.0   60150\n",
      "7   65a03faf9d0b194766635202              3.2   54445\n",
      "8   65a03faf9d0b194766635203              3.2   64445\n",
      "9   65a03faf9d0b194766635204              3.7   57189\n",
      "10  65a03faf9d0b194766635205              3.9   63218\n",
      "11  65a03faf9d0b194766635206              4.0   55794\n",
      "12  65a03faf9d0b194766635207              4.0   56957\n",
      "13  65a03faf9d0b194766635208              4.1   57081\n",
      "14  65a03faf9d0b194766635209              4.5   61111\n",
      "15  65a03faf9d0b19476663520a              4.9   67938\n",
      "16  65a03faf9d0b19476663520b              5.1   66029\n",
      "17  65a03faf9d0b19476663520c              5.3   83088\n",
      "18  65a03faf9d0b19476663520d              5.9   81363\n",
      "19  65a03faf9d0b19476663520e              6.0   93940\n",
      "20  65a03faf9d0b19476663520f              6.8   91738\n",
      "21  65a03faf9d0b194766635210              7.1   98273\n",
      "22  65a03faf9d0b194766635211              7.9  101302\n",
      "23  65a03faf9d0b194766635212              8.2  113812\n",
      "24  65a03faf9d0b194766635213              8.7  109431\n",
      "25  65a03faf9d0b194766635214              9.0  105582\n",
      "26  65a03faf9d0b194766635215              9.5  116969\n",
      "27  65a03faf9d0b194766635216              9.6  112635\n",
      "28  65a03faf9d0b194766635217             10.3  122391\n",
      "29  65a03faf9d0b194766635218             10.5  121872\n",
      "30  65a03faf9d0b194766635219             11.2  127345\n",
      "31  65a03faf9d0b19476663521a             11.5  126756\n",
      "32  65a03faf9d0b19476663521b             12.3  128765\n",
      "33  65a03faf9d0b19476663521c             12.9  135675\n",
      "34  65a03faf9d0b19476663521d             13.5  139465\n"
     ]
    }
   ],
   "source": [
    "print(df)"
   ]
  },
  {
   "cell_type": "code",
   "execution_count": 11,
   "id": "28612f04-e007-43d4-a753-8c72b3a23142",
   "metadata": {},
   "outputs": [
    {
     "data": {
      "text/plain": [
       "_id                0\n",
       "YearsExperience    0\n",
       "Salary             0\n",
       "dtype: int64"
      ]
     },
     "execution_count": 11,
     "metadata": {},
     "output_type": "execute_result"
    }
   ],
   "source": [
    "df.isnull().sum()"
   ]
  },
  {
   "cell_type": "code",
   "execution_count": 12,
   "id": "a0574c4a-f716-41c1-8b03-c084df64fa4c",
   "metadata": {},
   "outputs": [],
   "source": [
    "df = df.drop('_id', axis=1, errors='ignore' )"
   ]
  },
  {
   "cell_type": "code",
   "execution_count": 37,
   "id": "d79b3b5c-b41c-43e6-a20a-a5567b5c0a43",
   "metadata": {},
   "outputs": [
    {
     "name": "stdout",
     "output_type": "stream",
     "text": [
      "    YearsExperience  Salary\n",
      "0               1.1   39343\n",
      "1               1.3   46205\n",
      "2               1.5   37731\n",
      "3               2.0   43525\n",
      "4               2.2   39891\n",
      "5               2.9   56642\n",
      "6               3.0   60150\n",
      "7               3.2   54445\n",
      "8               3.2   64445\n",
      "9               3.7   57189\n",
      "10              3.9   63218\n",
      "11              4.0   55794\n",
      "12              4.0   56957\n",
      "13              4.1   57081\n",
      "14              4.5   61111\n",
      "15              4.9   67938\n",
      "16              5.1   66029\n",
      "17              5.3   83088\n",
      "18              5.9   81363\n",
      "19              6.0   93940\n",
      "20              6.8   91738\n",
      "21              7.1   98273\n",
      "22              7.9  101302\n",
      "23              8.2  113812\n",
      "24              8.7  109431\n",
      "25              9.0  105582\n",
      "26              9.5  116969\n",
      "27              9.6  112635\n",
      "28             10.3  122391\n",
      "29             10.5  121872\n",
      "30             11.2  127345\n",
      "31             11.5  126756\n",
      "32             12.3  128765\n",
      "33             12.9  135675\n",
      "34             13.5  139465\n",
      "35\n"
     ]
    }
   ],
   "source": [
    "print(df)"
   ]
  },
  {
   "cell_type": "code",
   "execution_count": 38,
   "id": "841d526d-b7ee-48d4-80d8-0c0c4d8d7f7c",
   "metadata": {},
   "outputs": [
    {
     "name": "stdout",
     "output_type": "stream",
     "text": [
      "35\n"
     ]
    }
   ],
   "source": [
    "print(len(df))"
   ]
  },
  {
   "cell_type": "code",
   "execution_count": 39,
   "id": "fb8c19b5-8ef2-40b7-86bc-a6eccd9f6f26",
   "metadata": {},
   "outputs": [
    {
     "data": {
      "text/html": [
       "<div>\n",
       "<style scoped>\n",
       "    .dataframe tbody tr th:only-of-type {\n",
       "        vertical-align: middle;\n",
       "    }\n",
       "\n",
       "    .dataframe tbody tr th {\n",
       "        vertical-align: top;\n",
       "    }\n",
       "\n",
       "    .dataframe thead th {\n",
       "        text-align: right;\n",
       "    }\n",
       "</style>\n",
       "<table border=\"1\" class=\"dataframe\">\n",
       "  <thead>\n",
       "    <tr style=\"text-align: right;\">\n",
       "      <th></th>\n",
       "      <th>YearsExperience</th>\n",
       "      <th>Salary</th>\n",
       "    </tr>\n",
       "  </thead>\n",
       "  <tbody>\n",
       "    <tr>\n",
       "      <th>0</th>\n",
       "      <td>1.1</td>\n",
       "      <td>39343</td>\n",
       "    </tr>\n",
       "    <tr>\n",
       "      <th>1</th>\n",
       "      <td>1.3</td>\n",
       "      <td>46205</td>\n",
       "    </tr>\n",
       "    <tr>\n",
       "      <th>2</th>\n",
       "      <td>1.5</td>\n",
       "      <td>37731</td>\n",
       "    </tr>\n",
       "    <tr>\n",
       "      <th>3</th>\n",
       "      <td>2.0</td>\n",
       "      <td>43525</td>\n",
       "    </tr>\n",
       "    <tr>\n",
       "      <th>4</th>\n",
       "      <td>2.2</td>\n",
       "      <td>39891</td>\n",
       "    </tr>\n",
       "  </tbody>\n",
       "</table>\n",
       "</div>"
      ],
      "text/plain": [
       "   YearsExperience  Salary\n",
       "0              1.1   39343\n",
       "1              1.3   46205\n",
       "2              1.5   37731\n",
       "3              2.0   43525\n",
       "4              2.2   39891"
      ]
     },
     "execution_count": 39,
     "metadata": {},
     "output_type": "execute_result"
    }
   ],
   "source": [
    "df.head()"
   ]
  },
  {
   "cell_type": "code",
   "execution_count": 16,
   "id": "927bcb84-16bb-44c3-9008-aa331c70bcd8",
   "metadata": {},
   "outputs": [
    {
     "data": {
      "text/plain": [
       "0"
      ]
     },
     "execution_count": 16,
     "metadata": {},
     "output_type": "execute_result"
    }
   ],
   "source": [
    "df.duplicated().sum()"
   ]
  },
  {
   "cell_type": "code",
   "execution_count": 17,
   "id": "2600ae9c-2a30-4452-ad62-0380921c522a",
   "metadata": {},
   "outputs": [
    {
     "data": {
      "text/plain": [
       "<Axes: >"
      ]
     },
     "execution_count": 17,
     "metadata": {},
     "output_type": "execute_result"
    },
    {
     "data": {
      "image/png": "[encoded data removed]",
      "text/plain": [
       "<Figure size 640x480 with 1 Axes>"
      ]
     },
     "metadata": {},
     "output_type": "display_data"
    }
   ],
   "source": [
    "sns.boxplot(df)"
   ]
  },
  {
   "cell_type": "code",
   "execution_count": 18,
   "id": "3fc8ae20-daf9-48fc-b925-7e12a0ccca06",
   "metadata": {},
   "outputs": [
    {
     "data": {
      "text/html": [
       "<div>\n",
       "<style scoped>\n",
       "    .dataframe tbody tr th:only-of-type {\n",
       "        vertical-align: middle;\n",
       "    }\n",
       "\n",
       "    .dataframe tbody tr th {\n",
       "        vertical-align: top;\n",
       "    }\n",
       "\n",
       "    .dataframe thead th {\n",
       "        text-align: right;\n",
       "    }\n",
       "</style>\n",
       "<table border=\"1\" class=\"dataframe\">\n",
       "  <thead>\n",
       "    <tr style=\"text-align: right;\">\n",
       "      <th></th>\n",
       "      <th>YearsExperience</th>\n",
       "      <th>Salary</th>\n",
       "    </tr>\n",
       "  </thead>\n",
       "  <tbody>\n",
       "    <tr>\n",
       "      <th>count</th>\n",
       "      <td>35.000000</td>\n",
       "      <td>35.000000</td>\n",
       "    </tr>\n",
       "    <tr>\n",
       "      <th>mean</th>\n",
       "      <td>6.308571</td>\n",
       "      <td>83945.600000</td>\n",
       "    </tr>\n",
       "    <tr>\n",
       "      <th>std</th>\n",
       "      <td>3.618610</td>\n",
       "      <td>32162.673003</td>\n",
       "    </tr>\n",
       "    <tr>\n",
       "      <th>min</th>\n",
       "      <td>1.100000</td>\n",
       "      <td>37731.000000</td>\n",
       "    </tr>\n",
       "    <tr>\n",
       "      <th>25%</th>\n",
       "      <td>3.450000</td>\n",
       "      <td>57019.000000</td>\n",
       "    </tr>\n",
       "    <tr>\n",
       "      <th>50%</th>\n",
       "      <td>5.300000</td>\n",
       "      <td>81363.000000</td>\n",
       "    </tr>\n",
       "    <tr>\n",
       "      <th>75%</th>\n",
       "      <td>9.250000</td>\n",
       "      <td>113223.500000</td>\n",
       "    </tr>\n",
       "    <tr>\n",
       "      <th>max</th>\n",
       "      <td>13.500000</td>\n",
       "      <td>139465.000000</td>\n",
       "    </tr>\n",
       "  </tbody>\n",
       "</table>\n",
       "</div>"
      ],
      "text/plain": [
       "       YearsExperience         Salary\n",
       "count        35.000000      35.000000\n",
       "mean          6.308571   83945.600000\n",
       "std           3.618610   32162.673003\n",
       "min           1.100000   37731.000000\n",
       "25%           3.450000   57019.000000\n",
       "50%           5.300000   81363.000000\n",
       "75%           9.250000  113223.500000\n",
       "max          13.500000  139465.000000"
      ]
     },
     "execution_count": 18,
     "metadata": {},
     "output_type": "execute_result"
    }
   ],
   "source": [
    "df.describe()"
   ]
  },
  {
   "cell_type": "code",
   "execution_count": 45,
   "id": "26eafcc0-96aa-4e4d-a0ad-4980e49e37b5",
   "metadata": {},
   "outputs": [
    {
     "data": {
      "image/png": "[encoded data removed]",
      "text/plain": [
       "<Figure size 640x480 with 1 Axes>"
      ]
     },
     "metadata": {},
     "output_type": "display_data"
    },
    {
     "name": "stdout",
     "output_type": "stream",
     "text": [
      "Mean Absolute Error (MAE): 6692.364094497284\n",
      "Mean Squared Error (MSE): 55761791.306260146\n",
      "R-squared (R2): 0.8914234140042779\n"
     ]
    }
   ],
   "source": [
    "from sklearn.model_selection import train_test_split\n",
    "from sklearn.linear_model import LinearRegression\n",
    "from sklearn.metrics import mean_absolute_error, mean_squared_error, r2_score\n",
    "\n",
    "X = df[['YearsExperience']]\n",
    "y = df['Salary']\n",
    "\n",
    "# Split the data into training and testing sets\n",
    "X_train, X_test, y_train, y_test = train_test_split(X, y, test_size=0.2, random_state=42)\n",
    "\n",
    "# Create a linear regression model\n",
    "model = LinearRegression()\n",
    "\n",
    "# Fit the model to the training data\n",
    "model.fit(X_train, y_train)\n",
    "\n",
    "# Make predictions on the test data\n",
    "y_pred = model.predict(X_test)\n",
    "\n",
    "# Visualize predictions vs. actual values\n",
    "plt.scatter(result_df['YearsExperience'], result_df['Actual'], color='black', label='Actual')\n",
    "plt.scatter(result_df['YearsExperience'], result_df['Predicted'], color='blue', label='Predicted')\n",
    "plt.xlabel('YearsExperience')\n",
    "plt.ylabel('Salary')\n",
    "plt.title('Salary Prediction - Linear Regression')\n",
    "plt.legend()\n",
    "plt.show()\n",
    "\n",
    "# Calculate evaluation metrics\n",
    "mae = mean_absolute_error(result_df['Actual'], result_df['Predicted'])\n",
    "mse = mean_squared_error(result_df['Actual'], result_df['Predicted'])\n",
    "r2 = r2_score(result_df['Actual'], result_df['Predicted'])\n",
    "\n",
    "# Print the evaluation metrics\n",
    "print(f'Mean Absolute Error (MAE): {mae}')\n",
    "print(f'Mean Squared Error (MSE): {mse}')\n",
    "print(f'R-squared (R2): {r2}')"
   ]
  },
  {
   "cell_type": "code",
   "execution_count": 34,
   "id": "4606007b-12ee-4b43-9516-c2b35388d3cd",
   "metadata": {},
   "outputs": [
    {
     "name": "stdout",
     "output_type": "stream",
     "text": [
      "7\n"
     ]
    }
   ],
   "source": [
    "print(len(result_df))"
   ]
  },
  {
   "cell_type": "code",
   "execution_count": 31,
   "id": "861f616f-e2c5-4bb3-88ae-95996aa3bdcb",
   "metadata": {},
   "outputs": [],
   "source": [
    "new_data = {\n",
    "    'YearsExperience': X_test['YearsExperience'].tolist(),\n",
    "    'Actual': y_test.tolist(),\n",
    "    'Predicted': y_pred.tolist(),\n",
    "    'MAE': mae,\n",
    "    'MSE': mse,\n",
    "    'r2': r2\n",
    "}"
   ]
  },
  {
   "cell_type": "code",
   "execution_count": 32,
   "id": "1d277289-f8e8-4779-8918-5049a7b68f24",
   "metadata": {},
   "outputs": [
    {
     "name": "stdout",
     "output_type": "stream",
     "text": [
      "{'YearsExperience': [9.5, 4.1, 8.7, 7.1, 4.9, 10.5, 6.0], 'Actual': [116969, 57081, 109431, 98273, 67938, 121872, 93940], 'Predicted': [110576.91706292318, 64251.57268881918, 103713.90308157443, 89987.87511887695, 71114.58667016792, 119155.68453960911, 80551.23089452244], 'MAE': 6692.364094497284, 'MSE': 55761791.306260146, 'r2': 0.8914234140042779}\n"
     ]
    }
   ],
   "source": [
    "print(new_data)"
   ]
  },
  {
   "cell_type": "code",
   "execution_count": null,
   "id": "a1b08fb8-b05f-42e8-86a1-904e5b8098bf",
   "metadata": {},
   "outputs": [],
   "source": []
  }
 ],
 "metadata": {
  "kernelspec": {
   "display_name": "Python 3 (ipykernel)",
   "language": "python",
   "name": "python3"
  },
  "language_info": {
   "codemirror_mode": {
    "name": "ipython",
    "version": 3
   },
   "file_extension": ".py",
   "mimetype": "text/x-python",
   "name": "python",
   "nbconvert_exporter": "python",
   "pygments_lexer": "ipython3",
   "version": "3.12.1"
  }
 },
 "nbformat": 4,
 "nbformat_minor": 5
}
